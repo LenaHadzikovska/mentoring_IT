{
 "cells": [
  {
   "cell_type": "markdown",
   "metadata": {},
   "source": [
    "# Homework"
   ]
  },
  {
   "cell_type": "markdown",
   "metadata": {},
   "source": [
    "1. Ширина прямоугольника - 10 см, высота - 5. Используя переменные, рассчитайте площадь прямоугольника"
   ]
  },
  {
   "cell_type": "code",
   "execution_count": 3,
   "metadata": {},
   "outputs": [
    {
     "name": "stdout",
     "output_type": "stream",
     "text": [
      "50\n"
     ]
    }
   ],
   "source": [
    "w = 10\n",
    "h = 5\n",
    "square = w*h\n",
    "print(square)"
   ]
  },
  {
   "cell_type": "markdown",
   "metadata": {},
   "source": [
    "2. Изучите самостоятельно тип данных множества (sets)\n",
    "   - ниже у вас есть две переменные типа sets\n",
    "   - в переменную *common* сохраните тех скиллы, которые содержатся и в *slavic_girls_who_code*, и в *liza*\n",
    "   - в переменную *only_slavic_girls_know* запишите те скиллы, которые знаете вы, но не знаю я\n",
    "   - в переменную *all_our_skills* запишите все скиллы, которые мы знаем\n",
    "   \n",
    "   Используйте операции над множествами!"
   ]
  },
  {
   "cell_type": "code",
   "execution_count": 4,
   "metadata": {},
   "outputs": [
    {
     "name": "stdout",
     "output_type": "stream",
     "text": [
      "{'Git', 'Python', 'SQL'}\n",
      "{'Git', 'Python', 'SQL'}\n",
      "{'Google Analytics', 'PowerBi'}\n",
      "{'Google Analytics', 'PowerBi'}\n",
      "{'Javascript', 'Docker', 'React', 'Python', 'Google Analytics', 'Git', 'SQL', 'PowerBi'}\n",
      "{'Javascript', 'Docker', 'React', 'Python', 'Google Analytics', 'Git', 'SQL', 'PowerBi'}\n"
     ]
    }
   ],
   "source": [
    "slavic_girls_who_code = {'PowerBi', 'SQL', 'Git', 'Google Analytics', 'Python'}\n",
    "liza = {'Python', 'SQL', 'Javascript', 'Docker', 'React', 'Git'}\n",
    "\n",
    "#first way\n",
    "common_first = print(slavic_girls_who_code & liza)\n",
    "\n",
    "#second way\n",
    "common_sec = print(slavic_girls_who_code.intersection(liza))\n",
    "\n",
    "#first way\n",
    "only_slavic_girls_know_first = print(slavic_girls_who_code - liza)\n",
    "\n",
    "#second way\n",
    "only_slavic_girls_know_sec = print(slavic_girls_who_code.difference(liza))\n",
    "\n",
    "#first way\n",
    "all_our_skills_first = print(slavic_girls_who_code | liza)\n",
    "\n",
    "#second way\n",
    "all_our_skills_sec = print(slavic_girls_who_code.union(liza))"
   ]
  },
  {
   "cell_type": "markdown",
   "metadata": {},
   "source": [
    "3. Используя slicing, запишите в переменную *summer* летние месяцы"
   ]
  },
  {
   "cell_type": "code",
   "execution_count": 5,
   "metadata": {},
   "outputs": [
    {
     "name": "stdout",
     "output_type": "stream",
     "text": [
      "['Jun', 'Jul', 'Aug']\n"
     ]
    }
   ],
   "source": [
    "months = ['Jan', 'Feb', 'Mar', 'Apr', 'May', 'Jun', 'Jul', 'Aug', 'Sep', 'Oct', 'Nov', 'Dec']\n",
    "summer = months[5:8]\n",
    "print(summer)"
   ]
  },
  {
   "cell_type": "markdown",
   "metadata": {},
   "source": [
    "4. В список *not_summer_months* запишите все остальные месяцы"
   ]
  },
  {
   "cell_type": "code",
   "execution_count": 6,
   "metadata": {},
   "outputs": [
    {
     "name": "stdout",
     "output_type": "stream",
     "text": [
      "['Jan', 'Feb', 'Mar', 'Apr', 'May', 'Sep', 'Oct', 'Nov', 'Dec']\n"
     ]
    }
   ],
   "source": [
    "months = ['Jan', 'Feb', 'Mar', 'Apr', 'May', 'Jun', 'Jul', 'Aug', 'Sep', 'Oct', 'Nov', 'Dec']\n",
    "not_summer_months = []\n",
    "for i in range(len(months)):\n",
    "    if i in [5,6,7]:\n",
    "        continue\n",
    "    not_summer_months.append(months[i])\n",
    "print(not_summer_months)"
   ]
  },
  {
   "cell_type": "markdown",
   "metadata": {},
   "source": [
    "5. У нас есть список *сustomers*, в котором сохранен возраст покупателей. Для каждого покупателя мы должны определить, можем ли мы ему продать алкоголь (по достижению 18-ти летия). В этом задании нам нужно проитерироваться по каждому элементу списка и для каждого клиента вывести функцией *print* можно продавать алкоголь или нельзя, принимая во внимание его возраст"
   ]
  },
  {
   "cell_type": "code",
   "execution_count": 7,
   "metadata": {},
   "outputs": [
    {
     "name": "stdout",
     "output_type": "stream",
     "text": [
      "Can sell alcohol to this customer\n",
      "Can sell alcohol to this customer\n",
      "Can sell alcohol to this customer\n",
      "You cannot sell alcohol to this customer!\n",
      "Can sell alcohol to this customer\n"
     ]
    }
   ],
   "source": [
    "customers = [44, 19, 18, 17, 25]\n",
    "for age in customers:\n",
    "    if age >= 18:\n",
    "        print('Can sell alcohol to this customer')\n",
    "    else:\n",
    "        print('You cannot sell alcohol to this customer!')"
   ]
  },
  {
   "cell_type": "markdown",
   "metadata": {},
   "source": [
    "6. Из передачи “Здоровье” Аня узнала, что рекомендуется спать хотя бы A часов в сутки, но пересыпать тоже вредно и не стоит спать более B часов. Сейчас Аня спит H часов в сутки. Если режим сна Ани удовлетворяет рекомендациям передачи “Здоровье”, выведите “Это нормально”. Если Аня спит менее A часов, выведите “Недосып”, если же более B часов, то выведите “Пересып”.\n",
    "\n",
    "Получаемое число A всегда меньше либо равно B.\n",
    "\n",
    "На вход программе в три строки подаются переменные в следующем порядке: A, B, H.\n",
    "\n",
    "\n",
    "Это первое не самое тривиальное задание на условное выражение. В случаях, когда разбить исполнение программы на несколько направлений, стоит внимательно обдумать все условия, которые нужно использовать. Особое внимание стоит уделить строгости используемых условных операторов: различайте <= и <, а также > и >=. Для того, чтобы понимать, какой из них стоит использовать, внимательно прочитайте условие задания.\n",
    "\n",
    "Sample Input 1:\n",
    "\n",
    "6\n",
    "10\n",
    "8\n",
    "\n",
    "Sample Output 1:\n",
    "\n",
    "Это нормально\n",
    "\n",
    "Sample Input 2:\n",
    "\n",
    "7\n",
    "9\n",
    "10\n",
    "\n",
    "Sample Output 2:\n",
    "\n",
    "Пересып\n",
    "\n",
    "Sample Input 3:\n",
    "\n",
    "7\n",
    "9\n",
    "2\n",
    "\n",
    "Sample Output 3:\n",
    "\n",
    "Недосып"
   ]
  },
  {
   "cell_type": "code",
   "execution_count": 12,
   "metadata": {},
   "outputs": [
    {
     "name": "stdout",
     "output_type": "stream",
     "text": [
      "Пересып\n"
     ]
    }
   ],
   "source": [
    "def sleeping(a,b,h):\n",
    "    if a < 0 or b < 0 or h < 0:\n",
    "        print(\"Incorrect input, should be positive numbers! Please try again!\")\n",
    "    elif a > b:\n",
    "        print('Incorrect input, min number of sleeping hours cannot be greater than max number! Please try again!')\n",
    "    elif h < a:\n",
    "        print('Недосып')\n",
    "    elif h > b:\n",
    "        print('Пересып')\n",
    "    else:\n",
    "        print('Это нормально')\n",
    "\n",
    "sleeping(7,7,10)"
   ]
  },
  {
   "cell_type": "code",
   "execution_count": null,
   "metadata": {},
   "outputs": [],
   "source": []
  }
 ],
 "metadata": {
  "kernelspec": {
   "display_name": "Python 3",
   "language": "python",
   "name": "python3"
  },
  "language_info": {
   "codemirror_mode": {
    "name": "ipython",
    "version": 3
   },
   "file_extension": ".py",
   "mimetype": "text/x-python",
   "name": "python",
   "nbconvert_exporter": "python",
   "pygments_lexer": "ipython3",
   "version": "3.8.8"
  }
 },
 "nbformat": 4,
 "nbformat_minor": 4
}
